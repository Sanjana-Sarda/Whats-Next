{
  "nbformat": 4,
  "nbformat_minor": 0,
  "metadata": {
    "colab": {
      "name": "data_visualization.ipynb",
      "provenance": []
    },
    "kernelspec": {
      "name": "python3",
      "display_name": "Python 3"
    },
    "language_info": {
      "name": "python"
    }
  },
  "cells": [
    {
      "cell_type": "code",
      "metadata": {
        "colab": {
          "base_uri": "https://localhost:8080/"
        },
        "id": "PqrJ3mOn6ZHr",
        "outputId": "6d12434a-5bf4-488d-dd02-9122888cbafc"
      },
      "source": [
        "from google.colab import drive\n",
        "drive.mount('/content/gdrive/')"
      ],
      "execution_count": 38,
      "outputs": [
        {
          "output_type": "stream",
          "text": [
            "Drive already mounted at /content/gdrive/; to attempt to forcibly remount, call drive.mount(\"/content/gdrive/\", force_remount=True).\n"
          ],
          "name": "stdout"
        }
      ]
    },
    {
      "cell_type": "code",
      "metadata": {
        "colab": {
          "base_uri": "https://localhost:8080/"
        },
        "id": "iBIbpCNF-JxH",
        "outputId": "cce8b6af-2595-4ced-e975-3f3fc6d32173"
      },
      "source": [
        "import os\n",
        "\n",
        "\n",
        "#print(os.getcwd())\n",
        "os.chdir('/content/gdrive/My Drive/188/Project Stuff/Code')\n",
        "!ls"
      ],
      "execution_count": 39,
      "outputs": [
        {
          "output_type": "stream",
          "text": [
            " Collaborative.ipynb\t      MoviesOnStreamingPlatforms_updated.csv\n",
            "'Content Based Model.ipynb'   ogMoviesOnStreamingPlatforms_updated.gsheet\n",
            " data_visualization.ipynb     ratings.csv\n",
            " movies.csv\t\t      test.ipynb\n"
          ],
          "name": "stdout"
        }
      ]
    },
    {
      "cell_type": "code",
      "metadata": {
        "colab": {
          "base_uri": "https://localhost:8080/",
          "height": 255
        },
        "id": "a3AyzskY-ipj",
        "outputId": "2ee969bc-2ed5-40af-9a5c-e90af2c63a0e"
      },
      "source": [
        "import pandas as pd\n",
        "\n",
        "ds = pd.read_csv(\"MoviesOnStreamingPlatforms_updated.csv\")\n",
        "ds = ds.iloc[:, 1:]    #remove unnamed index column\n",
        "ds.head()"
      ],
      "execution_count": 40,
      "outputs": [
        {
          "output_type": "execute_result",
          "data": {
            "text/html": [
              "<div>\n",
              "<style scoped>\n",
              "    .dataframe tbody tr th:only-of-type {\n",
              "        vertical-align: middle;\n",
              "    }\n",
              "\n",
              "    .dataframe tbody tr th {\n",
              "        vertical-align: top;\n",
              "    }\n",
              "\n",
              "    .dataframe thead th {\n",
              "        text-align: right;\n",
              "    }\n",
              "</style>\n",
              "<table border=\"1\" class=\"dataframe\">\n",
              "  <thead>\n",
              "    <tr style=\"text-align: right;\">\n",
              "      <th></th>\n",
              "      <th>Title</th>\n",
              "      <th>Year</th>\n",
              "      <th>Age</th>\n",
              "      <th>IMDb</th>\n",
              "      <th>Rotten Tomatoes</th>\n",
              "      <th>Netflix</th>\n",
              "      <th>Hulu</th>\n",
              "      <th>Prime Video</th>\n",
              "      <th>Disney+</th>\n",
              "      <th>Type</th>\n",
              "      <th>Directors</th>\n",
              "      <th>Genres</th>\n",
              "      <th>Country</th>\n",
              "      <th>Language</th>\n",
              "      <th>Runtime</th>\n",
              "    </tr>\n",
              "  </thead>\n",
              "  <tbody>\n",
              "    <tr>\n",
              "      <th>0</th>\n",
              "      <td>Avengers: Infinity War</td>\n",
              "      <td>2018</td>\n",
              "      <td>13+</td>\n",
              "      <td>8.5</td>\n",
              "      <td>84%</td>\n",
              "      <td>1</td>\n",
              "      <td>0</td>\n",
              "      <td>0</td>\n",
              "      <td>0</td>\n",
              "      <td>0</td>\n",
              "      <td>Anthony Russo,Joe Russo</td>\n",
              "      <td>Action,Adventure,Sci-Fi</td>\n",
              "      <td>United States</td>\n",
              "      <td>English</td>\n",
              "      <td>149.0</td>\n",
              "    </tr>\n",
              "    <tr>\n",
              "      <th>1</th>\n",
              "      <td>Back to the Future</td>\n",
              "      <td>1985</td>\n",
              "      <td>7+</td>\n",
              "      <td>8.5</td>\n",
              "      <td>96%</td>\n",
              "      <td>1</td>\n",
              "      <td>0</td>\n",
              "      <td>0</td>\n",
              "      <td>0</td>\n",
              "      <td>0</td>\n",
              "      <td>Robert Zemeckis</td>\n",
              "      <td>Adventure,Comedy,Sci-Fi</td>\n",
              "      <td>United States</td>\n",
              "      <td>English</td>\n",
              "      <td>116.0</td>\n",
              "    </tr>\n",
              "    <tr>\n",
              "      <th>2</th>\n",
              "      <td>Spider-Man: Into the Spider-Verse</td>\n",
              "      <td>2018</td>\n",
              "      <td>7+</td>\n",
              "      <td>8.4</td>\n",
              "      <td>97%</td>\n",
              "      <td>1</td>\n",
              "      <td>0</td>\n",
              "      <td>0</td>\n",
              "      <td>0</td>\n",
              "      <td>0</td>\n",
              "      <td>Bob Persichetti,Peter Ramsey,Rodney Rothman</td>\n",
              "      <td>Animation,Action,Adventure,Family,Sci-Fi</td>\n",
              "      <td>United States</td>\n",
              "      <td>English,Spanish</td>\n",
              "      <td>117.0</td>\n",
              "    </tr>\n",
              "    <tr>\n",
              "      <th>3</th>\n",
              "      <td>The Pianist</td>\n",
              "      <td>2002</td>\n",
              "      <td>18+</td>\n",
              "      <td>8.5</td>\n",
              "      <td>95%</td>\n",
              "      <td>1</td>\n",
              "      <td>0</td>\n",
              "      <td>1</td>\n",
              "      <td>0</td>\n",
              "      <td>0</td>\n",
              "      <td>Roman Polanski</td>\n",
              "      <td>Biography,Drama,Music,War</td>\n",
              "      <td>United Kingdom,France,Poland,Germany</td>\n",
              "      <td>English,German,Russian</td>\n",
              "      <td>150.0</td>\n",
              "    </tr>\n",
              "    <tr>\n",
              "      <th>4</th>\n",
              "      <td>Django Unchained</td>\n",
              "      <td>2012</td>\n",
              "      <td>18+</td>\n",
              "      <td>8.4</td>\n",
              "      <td>87%</td>\n",
              "      <td>1</td>\n",
              "      <td>0</td>\n",
              "      <td>0</td>\n",
              "      <td>0</td>\n",
              "      <td>0</td>\n",
              "      <td>Quentin Tarantino</td>\n",
              "      <td>Drama,Western</td>\n",
              "      <td>United States</td>\n",
              "      <td>English,German,French,Italian</td>\n",
              "      <td>165.0</td>\n",
              "    </tr>\n",
              "  </tbody>\n",
              "</table>\n",
              "</div>"
            ],
            "text/plain": [
              "                               Title  ...  Runtime\n",
              "0             Avengers: Infinity War  ...    149.0\n",
              "1                 Back to the Future  ...    116.0\n",
              "2  Spider-Man: Into the Spider-Verse  ...    117.0\n",
              "3                        The Pianist  ...    150.0\n",
              "4                   Django Unchained  ...    165.0\n",
              "\n",
              "[5 rows x 15 columns]"
            ]
          },
          "metadata": {
            "tags": []
          },
          "execution_count": 40
        }
      ]
    },
    {
      "cell_type": "code",
      "metadata": {
        "colab": {
          "base_uri": "https://localhost:8080/"
        },
        "id": "QYQ4LEXE_JV-",
        "outputId": "de9a20ab-27d1-4ffb-f9ed-4ba1de2ed8d0"
      },
      "source": [
        "ds.info()"
      ],
      "execution_count": 41,
      "outputs": [
        {
          "output_type": "stream",
          "text": [
            "<class 'pandas.core.frame.DataFrame'>\n",
            "RangeIndex: 4565 entries, 0 to 4564\n",
            "Data columns (total 15 columns):\n",
            " #   Column           Non-Null Count  Dtype  \n",
            "---  ------           --------------  -----  \n",
            " 0   Title            4565 non-null   object \n",
            " 1   Year             4565 non-null   int64  \n",
            " 2   Age              3132 non-null   object \n",
            " 3   IMDb             4563 non-null   float64\n",
            " 4   Rotten Tomatoes  4565 non-null   object \n",
            " 5   Netflix          4565 non-null   int64  \n",
            " 6   Hulu             4565 non-null   int64  \n",
            " 7   Prime Video      4565 non-null   int64  \n",
            " 8   Disney+          4565 non-null   int64  \n",
            " 9   Type             4565 non-null   int64  \n",
            " 10  Directors        4471 non-null   object \n",
            " 11  Genres           4560 non-null   object \n",
            " 12  Country          4546 non-null   object \n",
            " 13  Language         4518 non-null   object \n",
            " 14  Runtime          4532 non-null   float64\n",
            "dtypes: float64(2), int64(6), object(7)\n",
            "memory usage: 535.1+ KB\n"
          ],
          "name": "stdout"
        }
      ]
    },
    {
      "cell_type": "code",
      "metadata": {
        "colab": {
          "base_uri": "https://localhost:8080/"
        },
        "id": "yKzvId0vEsYx",
        "outputId": "2852554d-65aa-4e9b-9b77-79a0b278b2d1"
      },
      "source": [
        "ds.drop(['Age'], axis =1, inplace=True)\n",
        "ds.dropna(subset=['IMDb', 'Directors', 'Genres', 'Country', 'Language', 'Runtime'], inplace = True)\n",
        "ds.reset_index(inplace=True, drop=True)\n",
        "ds.Year = ds.Year.astype(\"object\")\n",
        "ds['Rotten Tomatoes'] = ds['Rotten Tomatoes'].str.rstrip('%').astype('float') / 100.0\n",
        "ds.info()"
      ],
      "execution_count": 42,
      "outputs": [
        {
          "output_type": "stream",
          "text": [
            "<class 'pandas.core.frame.DataFrame'>\n",
            "RangeIndex: 4420 entries, 0 to 4419\n",
            "Data columns (total 14 columns):\n",
            " #   Column           Non-Null Count  Dtype  \n",
            "---  ------           --------------  -----  \n",
            " 0   Title            4420 non-null   object \n",
            " 1   Year             4420 non-null   object \n",
            " 2   IMDb             4420 non-null   float64\n",
            " 3   Rotten Tomatoes  4420 non-null   float64\n",
            " 4   Netflix          4420 non-null   int64  \n",
            " 5   Hulu             4420 non-null   int64  \n",
            " 6   Prime Video      4420 non-null   int64  \n",
            " 7   Disney+          4420 non-null   int64  \n",
            " 8   Type             4420 non-null   int64  \n",
            " 9   Directors        4420 non-null   object \n",
            " 10  Genres           4420 non-null   object \n",
            " 11  Country          4420 non-null   object \n",
            " 12  Language         4420 non-null   object \n",
            " 13  Runtime          4420 non-null   float64\n",
            "dtypes: float64(3), int64(5), object(6)\n",
            "memory usage: 483.6+ KB\n"
          ],
          "name": "stdout"
        }
      ]
    },
    {
      "cell_type": "code",
      "metadata": {
        "colab": {
          "base_uri": "https://localhost:8080/",
          "height": 388
        },
        "id": "_oLU8HtkFhLO",
        "outputId": "c6403473-7e00-4752-92a7-7cc459abd040"
      },
      "source": [
        "import matplotlib.pyplot as plt\n",
        "import seaborn as sns\n",
        "\n",
        "plt.figure(figsize = (20, 5))\n",
        "sns.distplot(ds['Year'])\n",
        "plt.show()"
      ],
      "execution_count": 43,
      "outputs": [
        {
          "output_type": "stream",
          "text": [
            "/usr/local/lib/python3.7/dist-packages/seaborn/distributions.py:2557: FutureWarning: `distplot` is a deprecated function and will be removed in a future version. Please adapt your code to use either `displot` (a figure-level function with similar flexibility) or `histplot` (an axes-level function for histograms).\n",
            "  warnings.warn(msg, FutureWarning)\n"
          ],
          "name": "stderr"
        },
        {
          "output_type": "display_data",
          "data": {
            "image/png": "[encoded data removed]",
            "text/plain": [
              "<Figure size 1440x360 with 1 Axes>"
            ]
          },
          "metadata": {
            "tags": [],
            "needs_background": "light"
          }
        }
      ]
    },
    {
      "cell_type": "code",
      "metadata": {
        "colab": {
          "base_uri": "https://localhost:8080/",
          "height": 388
        },
        "id": "JVX9MT_fF5Sz",
        "outputId": "cf1e1a7a-ccfe-4956-d72b-85bbf2ab0be6"
      },
      "source": [
        "plt.figure(figsize = (20,5))\n",
        "sns.distplot(ds['IMDb'])\n",
        "plt.show()"
      ],
      "execution_count": 44,
      "outputs": [
        {
          "output_type": "stream",
          "text": [
            "/usr/local/lib/python3.7/dist-packages/seaborn/distributions.py:2557: FutureWarning: `distplot` is a deprecated function and will be removed in a future version. Please adapt your code to use either `displot` (a figure-level function with similar flexibility) or `histplot` (an axes-level function for histograms).\n",
            "  warnings.warn(msg, FutureWarning)\n"
          ],
          "name": "stderr"
        },
        {
          "output_type": "display_data",
          "data": {
            "image/png": "[encoded data removed]",
            "text/plain": [
              "<Figure size 1440x360 with 1 Axes>"
            ]
          },
          "metadata": {
            "tags": [],
            "needs_background": "light"
          }
        }
      ]
    },
    {
      "cell_type": "code",
      "metadata": {
        "colab": {
          "base_uri": "https://localhost:8080/",
          "height": 388
        },
        "id": "yIeVSdN4F9u0",
        "outputId": "ddd7a439-7225-4730-dd4d-b7c20ae99038"
      },
      "source": [
        "plt.figure(figsize = (20,5))\n",
        "sns.distplot(ds['Rotten Tomatoes'])\n",
        "plt.show()"
      ],
      "execution_count": 45,
      "outputs": [
        {
          "output_type": "stream",
          "text": [
            "/usr/local/lib/python3.7/dist-packages/seaborn/distributions.py:2557: FutureWarning: `distplot` is a deprecated function and will be removed in a future version. Please adapt your code to use either `displot` (a figure-level function with similar flexibility) or `histplot` (an axes-level function for histograms).\n",
            "  warnings.warn(msg, FutureWarning)\n"
          ],
          "name": "stderr"
        },
        {
          "output_type": "display_data",
          "data": {
            "image/png": "[encoded data removed]",
            "text/plain": [
              "<Figure size 1440x360 with 1 Axes>"
            ]
          },
          "metadata": {
            "tags": [],
            "needs_background": "light"
          }
        }
      ]
    },
    {
      "cell_type": "code",
      "metadata": {
        "colab": {
          "base_uri": "https://localhost:8080/",
          "height": 388
        },
        "id": "DATnXLDLGyX1",
        "outputId": "4fc769c4-801a-43a2-ac0b-8548d4fdd353"
      },
      "source": [
        "plt.figure(figsize = (20,5))\n",
        "sns.distplot(ds['Runtime'])\n",
        "plt.show()"
      ],
      "execution_count": 46,
      "outputs": [
        {
          "output_type": "stream",
          "text": [
            "/usr/local/lib/python3.7/dist-packages/seaborn/distributions.py:2557: FutureWarning: `distplot` is a deprecated function and will be removed in a future version. Please adapt your code to use either `displot` (a figure-level function with similar flexibility) or `histplot` (an axes-level function for histograms).\n",
            "  warnings.warn(msg, FutureWarning)\n"
          ],
          "name": "stderr"
        },
        {
          "output_type": "display_data",
          "data": {
            "image/png": "[encoded data removed]",
            "text/plain": [
              "<Figure size 1440x360 with 1 Axes>"
            ]
          },
          "metadata": {
            "tags": [],
            "needs_background": "light"
          }
        }
      ]
    },
    {
      "cell_type": "code",
      "metadata": {
        "id": "pNQDuN_xH3H9"
      },
      "source": [
        "def movie_count(platform, count=False):\n",
        "    if count==False:\n",
        "        print('Platform {} Count : {}'.format(platform, ds[platform].sum()))\n",
        "        \n",
        "    else:\n",
        "        return ds[platform].sum()"
      ],
      "execution_count": 47,
      "outputs": []
    },
    {
      "cell_type": "code",
      "metadata": {
        "colab": {
          "base_uri": "https://localhost:8080/"
        },
        "id": "FG-j_QyqIFEU",
        "outputId": "cbf21860-6923-41a6-9b27-4a9212332845"
      },
      "source": [
        "movie_count('Netflix')\n",
        "movie_count('Prime Video')\n",
        "movie_count('Disney+')\n",
        "movie_count('Hulu')"
      ],
      "execution_count": 48,
      "outputs": [
        {
          "output_type": "stream",
          "text": [
            "Platform Netflix Count : 1192\n",
            "Platform Prime Video Count : 2615\n",
            "Platform Disney+ Count : 341\n",
            "Platform Hulu Count : 564\n"
          ],
          "name": "stdout"
        }
      ]
    },
    {
      "cell_type": "code",
      "metadata": {
        "colab": {
          "base_uri": "https://localhost:8080/",
          "height": 264
        },
        "id": "IkZq2DzpL5Bt",
        "outputId": "44f08bf2-0d24-46d9-9eea-f1e0639eda3c"
      },
      "source": [
        "platform = 'Prime Video', 'Netflix', 'Hulu', 'Disney+'\n",
        "s = [movie_count('Prime Video', count = True),\n",
        "     movie_count('Netflix', count = True),\n",
        "     movie_count('Hulu', count = True),\n",
        "     movie_count('Disney+', count = True),\n",
        "    ]\n",
        "\n",
        "explode= (0.1, 0.1, 0.1, 0.1)\n",
        "\n",
        "#plot\n",
        "fig1, ax1 = plt.subplots()\n",
        "ax1.pie(s, \n",
        "       labels = platform,\n",
        "       autopct = '%1.1f%%',\n",
        "       explode = explode,\n",
        "       shadow = True,\n",
        "       startangle=100)\n",
        "\n",
        "ax1.axis = ('equal')\n",
        "plt.title('Distribution of OTT')\n",
        "plt.show()"
      ],
      "execution_count": 49,
      "outputs": [
        {
          "output_type": "display_data",
          "data": {
            "image/png": "[encoded data removed]",
            "text/plain": [
              "<Figure size 432x288 with 1 Axes>"
            ]
          },
          "metadata": {
            "tags": []
          }
        }
      ]
    },
    {
      "cell_type": "code",
      "metadata": {
        "colab": {
          "base_uri": "https://localhost:8080/",
          "height": 679
        },
        "id": "CWZl4zz5dPxr",
        "outputId": "3077ad3f-5583-498d-b4e3-d39061d01e3e"
      },
      "source": [
        "g = ds['Genres'].str.split(',').apply(pd.Series,1).stack()\n",
        "\n",
        "g.index = g.index.droplevel(-1)\n",
        "\n",
        "#assign name\n",
        "g.name = 'Genres'\n",
        "\n",
        "#delete column\n",
        "del ds['Genres']\n",
        "\n",
        "#join new column\n",
        "ds_genres = ds.join(g)\n",
        "\n",
        "plt.figure(figsize=(20,10))\n",
        "sns.countplot(x='Genres', data = ds_genres)\n",
        "plt.xticks(rotation=90)\n",
        "plt.title(\"Genre wise movies\")\n",
        "plt.show()"
      ],
      "execution_count": 50,
      "outputs": [
        {
          "output_type": "display_data",
          "data": {
            "image/png": "[encoded data removed]",
            "text/plain": [
              "<Figure size 1440x720 with 1 Axes>"
            ]
          },
          "metadata": {
            "tags": [],
            "needs_background": "light"
          }
        }
      ]
    },
    {
      "cell_type": "code",
      "metadata": {
        "colab": {
          "base_uri": "https://localhost:8080/",
          "height": 204
        },
        "id": "SAFSFsaDTmRC",
        "outputId": "42ddd1ab-32f1-4499-97c2-994efd822124"
      },
      "source": [
        "ds_genres.head()"
      ],
      "execution_count": 51,
      "outputs": [
        {
          "output_type": "execute_result",
          "data": {
            "text/html": [
              "<div>\n",
              "<style scoped>\n",
              "    .dataframe tbody tr th:only-of-type {\n",
              "        vertical-align: middle;\n",
              "    }\n",
              "\n",
              "    .dataframe tbody tr th {\n",
              "        vertical-align: top;\n",
              "    }\n",
              "\n",
              "    .dataframe thead th {\n",
              "        text-align: right;\n",
              "    }\n",
              "</style>\n",
              "<table border=\"1\" class=\"dataframe\">\n",
              "  <thead>\n",
              "    <tr style=\"text-align: right;\">\n",
              "      <th></th>\n",
              "      <th>Title</th>\n",
              "      <th>Year</th>\n",
              "      <th>IMDb</th>\n",
              "      <th>Rotten Tomatoes</th>\n",
              "      <th>Netflix</th>\n",
              "      <th>Hulu</th>\n",
              "      <th>Prime Video</th>\n",
              "      <th>Disney+</th>\n",
              "      <th>Type</th>\n",
              "      <th>Directors</th>\n",
              "      <th>Country</th>\n",
              "      <th>Language</th>\n",
              "      <th>Runtime</th>\n",
              "      <th>Genres</th>\n",
              "    </tr>\n",
              "  </thead>\n",
              "  <tbody>\n",
              "    <tr>\n",
              "      <th>0</th>\n",
              "      <td>Avengers: Infinity War</td>\n",
              "      <td>2018</td>\n",
              "      <td>8.5</td>\n",
              "      <td>0.84</td>\n",
              "      <td>1</td>\n",
              "      <td>0</td>\n",
              "      <td>0</td>\n",
              "      <td>0</td>\n",
              "      <td>0</td>\n",
              "      <td>Anthony Russo,Joe Russo</td>\n",
              "      <td>United States</td>\n",
              "      <td>English</td>\n",
              "      <td>149.0</td>\n",
              "      <td>Action</td>\n",
              "    </tr>\n",
              "    <tr>\n",
              "      <th>0</th>\n",
              "      <td>Avengers: Infinity War</td>\n",
              "      <td>2018</td>\n",
              "      <td>8.5</td>\n",
              "      <td>0.84</td>\n",
              "      <td>1</td>\n",
              "      <td>0</td>\n",
              "      <td>0</td>\n",
              "      <td>0</td>\n",
              "      <td>0</td>\n",
              "      <td>Anthony Russo,Joe Russo</td>\n",
              "      <td>United States</td>\n",
              "      <td>English</td>\n",
              "      <td>149.0</td>\n",
              "      <td>Adventure</td>\n",
              "    </tr>\n",
              "    <tr>\n",
              "      <th>0</th>\n",
              "      <td>Avengers: Infinity War</td>\n",
              "      <td>2018</td>\n",
              "      <td>8.5</td>\n",
              "      <td>0.84</td>\n",
              "      <td>1</td>\n",
              "      <td>0</td>\n",
              "      <td>0</td>\n",
              "      <td>0</td>\n",
              "      <td>0</td>\n",
              "      <td>Anthony Russo,Joe Russo</td>\n",
              "      <td>United States</td>\n",
              "      <td>English</td>\n",
              "      <td>149.0</td>\n",
              "      <td>Sci-Fi</td>\n",
              "    </tr>\n",
              "    <tr>\n",
              "      <th>1</th>\n",
              "      <td>Back to the Future</td>\n",
              "      <td>1985</td>\n",
              "      <td>8.5</td>\n",
              "      <td>0.96</td>\n",
              "      <td>1</td>\n",
              "      <td>0</td>\n",
              "      <td>0</td>\n",
              "      <td>0</td>\n",
              "      <td>0</td>\n",
              "      <td>Robert Zemeckis</td>\n",
              "      <td>United States</td>\n",
              "      <td>English</td>\n",
              "      <td>116.0</td>\n",
              "      <td>Adventure</td>\n",
              "    </tr>\n",
              "    <tr>\n",
              "      <th>1</th>\n",
              "      <td>Back to the Future</td>\n",
              "      <td>1985</td>\n",
              "      <td>8.5</td>\n",
              "      <td>0.96</td>\n",
              "      <td>1</td>\n",
              "      <td>0</td>\n",
              "      <td>0</td>\n",
              "      <td>0</td>\n",
              "      <td>0</td>\n",
              "      <td>Robert Zemeckis</td>\n",
              "      <td>United States</td>\n",
              "      <td>English</td>\n",
              "      <td>116.0</td>\n",
              "      <td>Comedy</td>\n",
              "    </tr>\n",
              "  </tbody>\n",
              "</table>\n",
              "</div>"
            ],
            "text/plain": [
              "                    Title  Year  IMDb  ...  Language  Runtime     Genres\n",
              "0  Avengers: Infinity War  2018   8.5  ...   English    149.0     Action\n",
              "0  Avengers: Infinity War  2018   8.5  ...   English    149.0  Adventure\n",
              "0  Avengers: Infinity War  2018   8.5  ...   English    149.0     Sci-Fi\n",
              "1      Back to the Future  1985   8.5  ...   English    116.0  Adventure\n",
              "1      Back to the Future  1985   8.5  ...   English    116.0     Comedy\n",
              "\n",
              "[5 rows x 14 columns]"
            ]
          },
          "metadata": {
            "tags": []
          },
          "execution_count": 51
        }
      ]
    },
    {
      "cell_type": "code",
      "metadata": {
        "colab": {
          "base_uri": "https://localhost:8080/",
          "height": 204
        },
        "id": "ZcPQYy_NhFOi",
        "outputId": "3f24dec8-9d9d-43ef-9b27-a41c262cd0e0"
      },
      "source": [
        "c = ds['Country'].str.split(',').apply(pd.Series, 1).stack()\n",
        "c.index = c.index.droplevel(-1)\n",
        "\n",
        "#assign name\n",
        "c.name = 'Country'\n",
        "\n",
        "#delete column\n",
        "del ds['Country']\n",
        "\n",
        "ds_country = ds.join(c)\n",
        "\n",
        "ds_country.head()"
      ],
      "execution_count": 52,
      "outputs": [
        {
          "output_type": "execute_result",
          "data": {
            "text/html": [
              "<div>\n",
              "<style scoped>\n",
              "    .dataframe tbody tr th:only-of-type {\n",
              "        vertical-align: middle;\n",
              "    }\n",
              "\n",
              "    .dataframe tbody tr th {\n",
              "        vertical-align: top;\n",
              "    }\n",
              "\n",
              "    .dataframe thead th {\n",
              "        text-align: right;\n",
              "    }\n",
              "</style>\n",
              "<table border=\"1\" class=\"dataframe\">\n",
              "  <thead>\n",
              "    <tr style=\"text-align: right;\">\n",
              "      <th></th>\n",
              "      <th>Title</th>\n",
              "      <th>Year</th>\n",
              "      <th>IMDb</th>\n",
              "      <th>Rotten Tomatoes</th>\n",
              "      <th>Netflix</th>\n",
              "      <th>Hulu</th>\n",
              "      <th>Prime Video</th>\n",
              "      <th>Disney+</th>\n",
              "      <th>Type</th>\n",
              "      <th>Directors</th>\n",
              "      <th>Language</th>\n",
              "      <th>Runtime</th>\n",
              "      <th>Country</th>\n",
              "    </tr>\n",
              "  </thead>\n",
              "  <tbody>\n",
              "    <tr>\n",
              "      <th>0</th>\n",
              "      <td>Avengers: Infinity War</td>\n",
              "      <td>2018</td>\n",
              "      <td>8.5</td>\n",
              "      <td>0.84</td>\n",
              "      <td>1</td>\n",
              "      <td>0</td>\n",
              "      <td>0</td>\n",
              "      <td>0</td>\n",
              "      <td>0</td>\n",
              "      <td>Anthony Russo,Joe Russo</td>\n",
              "      <td>English</td>\n",
              "      <td>149.0</td>\n",
              "      <td>United States</td>\n",
              "    </tr>\n",
              "    <tr>\n",
              "      <th>1</th>\n",
              "      <td>Back to the Future</td>\n",
              "      <td>1985</td>\n",
              "      <td>8.5</td>\n",
              "      <td>0.96</td>\n",
              "      <td>1</td>\n",
              "      <td>0</td>\n",
              "      <td>0</td>\n",
              "      <td>0</td>\n",
              "      <td>0</td>\n",
              "      <td>Robert Zemeckis</td>\n",
              "      <td>English</td>\n",
              "      <td>116.0</td>\n",
              "      <td>United States</td>\n",
              "    </tr>\n",
              "    <tr>\n",
              "      <th>2</th>\n",
              "      <td>Spider-Man: Into the Spider-Verse</td>\n",
              "      <td>2018</td>\n",
              "      <td>8.4</td>\n",
              "      <td>0.97</td>\n",
              "      <td>1</td>\n",
              "      <td>0</td>\n",
              "      <td>0</td>\n",
              "      <td>0</td>\n",
              "      <td>0</td>\n",
              "      <td>Bob Persichetti,Peter Ramsey,Rodney Rothman</td>\n",
              "      <td>English,Spanish</td>\n",
              "      <td>117.0</td>\n",
              "      <td>United States</td>\n",
              "    </tr>\n",
              "    <tr>\n",
              "      <th>3</th>\n",
              "      <td>The Pianist</td>\n",
              "      <td>2002</td>\n",
              "      <td>8.5</td>\n",
              "      <td>0.95</td>\n",
              "      <td>1</td>\n",
              "      <td>0</td>\n",
              "      <td>1</td>\n",
              "      <td>0</td>\n",
              "      <td>0</td>\n",
              "      <td>Roman Polanski</td>\n",
              "      <td>English,German,Russian</td>\n",
              "      <td>150.0</td>\n",
              "      <td>United Kingdom</td>\n",
              "    </tr>\n",
              "    <tr>\n",
              "      <th>3</th>\n",
              "      <td>The Pianist</td>\n",
              "      <td>2002</td>\n",
              "      <td>8.5</td>\n",
              "      <td>0.95</td>\n",
              "      <td>1</td>\n",
              "      <td>0</td>\n",
              "      <td>1</td>\n",
              "      <td>0</td>\n",
              "      <td>0</td>\n",
              "      <td>Roman Polanski</td>\n",
              "      <td>English,German,Russian</td>\n",
              "      <td>150.0</td>\n",
              "      <td>France</td>\n",
              "    </tr>\n",
              "  </tbody>\n",
              "</table>\n",
              "</div>"
            ],
            "text/plain": [
              "                               Title  Year  ...  Runtime         Country\n",
              "0             Avengers: Infinity War  2018  ...    149.0   United States\n",
              "1                 Back to the Future  1985  ...    116.0   United States\n",
              "2  Spider-Man: Into the Spider-Verse  2018  ...    117.0   United States\n",
              "3                        The Pianist  2002  ...    150.0  United Kingdom\n",
              "3                        The Pianist  2002  ...    150.0          France\n",
              "\n",
              "[5 rows x 13 columns]"
            ]
          },
          "metadata": {
            "tags": []
          },
          "execution_count": 52
        }
      ]
    },
    {
      "cell_type": "code",
      "metadata": {
        "colab": {
          "base_uri": "https://localhost:8080/",
          "height": 390
        },
        "id": "K_urpCVSk7q5",
        "outputId": "6f344e71-f83c-4162-8538-e9b637bc3c57"
      },
      "source": [
        "ds_country['Country'].value_counts()[:10].plot(kind=\"bar\", figsize=(15,5))\n",
        "plt.show()"
      ],
      "execution_count": 53,
      "outputs": [
        {
          "output_type": "display_data",
          "data": {
            "image/png": "[encoded data removed]",
            "text/plain": [
              "<Figure size 1080x360 with 1 Axes>"
            ]
          },
          "metadata": {
            "tags": [],
            "needs_background": "light"
          }
        }
      ]
    },
    {
      "cell_type": "code",
      "metadata": {
        "colab": {
          "base_uri": "https://localhost:8080/",
          "height": 248
        },
        "id": "NC-mmpC1lGDD",
        "outputId": "e79e8dd3-759e-466f-e906-40592179dfc7"
      },
      "source": [
        "l = ds['Language'].str.split(',').apply(pd.Series,1).stack()\n",
        "\n",
        "l.index = l.index.droplevel(-1)\n",
        "\n",
        "l.name = \"Language\"\n",
        "\n",
        "del ds['Language']\n",
        "\n",
        "ds_language = ds.join(l)\n",
        "\n",
        "ds_language['Language'].value_counts()[:10].plot(kind = 'bar', figsize =(15,3))\n",
        "plt.show()"
      ],
      "execution_count": 54,
      "outputs": [
        {
          "output_type": "display_data",
          "data": {
            "image/png": "[encoded data removed]",
            "text/plain": [
              "<Figure size 1080x216 with 1 Axes>"
            ]
          },
          "metadata": {
            "tags": [],
            "needs_background": "light"
          }
        }
      ]
    },
    {
      "cell_type": "code",
      "metadata": {
        "colab": {
          "base_uri": "https://localhost:8080/",
          "height": 225
        },
        "id": "fqUzs2QWlmoT",
        "outputId": "7d3d6fed-e2f2-49a7-963f-9efa2654636b"
      },
      "source": [
        "ds_Imdb = pd.melt(ds, id_vars = ['Title', 'Year', 'IMDb', 'Rotten Tomatoes', 'Type', 'Runtime'], var_name = 'platform')\n",
        "\n",
        "ds_Imdb = ds_Imdb[ds_Imdb.value==1]\n",
        "ds_Imdb.drop(columns=[\"value\"], axis=1, inplace=True)\n",
        "\n",
        "g = sns.FacetGrid(ds_Imdb, col=\"platform\")\n",
        "g.map(plt.hist, \"IMDb\")\n",
        "plt.show()"
      ],
      "execution_count": 55,
      "outputs": [
        {
          "output_type": "display_data",
          "data": {
            "image/png": "[encoded data removed]",
            "text/plain": [
              "<Figure size 864x216 with 4 Axes>"
            ]
          },
          "metadata": {
            "tags": [],
            "needs_background": "light"
          }
        }
      ]
    },
    {
      "cell_type": "code",
      "metadata": {
        "colab": {
          "base_uri": "https://localhost:8080/",
          "height": 225
        },
        "id": "7OKWZIAwmILA",
        "outputId": "ef92d06d-8d08-48ad-b152-8341e7079dbe"
      },
      "source": [
        "ds_RT = pd.melt(ds, id_vars = ['Title', 'Year', 'IMDb', 'Rotten Tomatoes', 'Type', 'Runtime'], var_name = 'platform')\n",
        "\n",
        "ds_RT = ds_RT[ds_RT.value==1]\n",
        "ds_RT.drop(columns=[\"value\"], axis=1, inplace=True)\n",
        "\n",
        "g = sns.FacetGrid(ds_RT, col=\"platform\")\n",
        "g.map(plt.hist, \"Rotten Tomatoes\")\n",
        "plt.show()"
      ],
      "execution_count": 56,
      "outputs": [
        {
          "output_type": "display_data",
          "data": {
            "image/png": "[encoded data removed]",
            "text/plain": [
              "<Figure size 864x216 with 4 Axes>"
            ]
          },
          "metadata": {
            "tags": [],
            "needs_background": "light"
          }
        }
      ]
    },
    {
      "cell_type": "code",
      "metadata": {
        "colab": {
          "base_uri": "https://localhost:8080/",
          "height": 204
        },
        "id": "92heJN_jmiqz",
        "outputId": "ca55f411-abb7-426c-eb22-a83a7e001cbe"
      },
      "source": [
        "ds = pd.read_csv(\"MoviesOnStreamingPlatforms_updated.csv\")\n",
        "ds=ds.iloc[:,1:]\n",
        "\n",
        "# melting platform columns to create visualization\n",
        "ds2 = pd.melt(ds, id_vars=[\"Title\",\"Year\",\"Age\",\"IMDb\",\"Rotten Tomatoes\",\"Type\",\"Runtime\"], var_name=\"platform\")\n",
        "ds2 = ds2[ds2.value==1]\n",
        "ds2.drop(columns=[\"value\"],axis=1,inplace=True)\n",
        "\n",
        "ds2.head(5)"
      ],
      "execution_count": 58,
      "outputs": [
        {
          "output_type": "execute_result",
          "data": {
            "text/html": [
              "<div>\n",
              "<style scoped>\n",
              "    .dataframe tbody tr th:only-of-type {\n",
              "        vertical-align: middle;\n",
              "    }\n",
              "\n",
              "    .dataframe tbody tr th {\n",
              "        vertical-align: top;\n",
              "    }\n",
              "\n",
              "    .dataframe thead th {\n",
              "        text-align: right;\n",
              "    }\n",
              "</style>\n",
              "<table border=\"1\" class=\"dataframe\">\n",
              "  <thead>\n",
              "    <tr style=\"text-align: right;\">\n",
              "      <th></th>\n",
              "      <th>Title</th>\n",
              "      <th>Year</th>\n",
              "      <th>Age</th>\n",
              "      <th>IMDb</th>\n",
              "      <th>Rotten Tomatoes</th>\n",
              "      <th>Type</th>\n",
              "      <th>Runtime</th>\n",
              "      <th>platform</th>\n",
              "    </tr>\n",
              "  </thead>\n",
              "  <tbody>\n",
              "    <tr>\n",
              "      <th>0</th>\n",
              "      <td>Avengers: Infinity War</td>\n",
              "      <td>2018</td>\n",
              "      <td>13+</td>\n",
              "      <td>8.5</td>\n",
              "      <td>84%</td>\n",
              "      <td>0</td>\n",
              "      <td>149.0</td>\n",
              "      <td>Netflix</td>\n",
              "    </tr>\n",
              "    <tr>\n",
              "      <th>1</th>\n",
              "      <td>Back to the Future</td>\n",
              "      <td>1985</td>\n",
              "      <td>7+</td>\n",
              "      <td>8.5</td>\n",
              "      <td>96%</td>\n",
              "      <td>0</td>\n",
              "      <td>116.0</td>\n",
              "      <td>Netflix</td>\n",
              "    </tr>\n",
              "    <tr>\n",
              "      <th>2</th>\n",
              "      <td>Spider-Man: Into the Spider-Verse</td>\n",
              "      <td>2018</td>\n",
              "      <td>7+</td>\n",
              "      <td>8.4</td>\n",
              "      <td>97%</td>\n",
              "      <td>0</td>\n",
              "      <td>117.0</td>\n",
              "      <td>Netflix</td>\n",
              "    </tr>\n",
              "    <tr>\n",
              "      <th>3</th>\n",
              "      <td>The Pianist</td>\n",
              "      <td>2002</td>\n",
              "      <td>18+</td>\n",
              "      <td>8.5</td>\n",
              "      <td>95%</td>\n",
              "      <td>0</td>\n",
              "      <td>150.0</td>\n",
              "      <td>Netflix</td>\n",
              "    </tr>\n",
              "    <tr>\n",
              "      <th>4</th>\n",
              "      <td>Django Unchained</td>\n",
              "      <td>2012</td>\n",
              "      <td>18+</td>\n",
              "      <td>8.4</td>\n",
              "      <td>87%</td>\n",
              "      <td>0</td>\n",
              "      <td>165.0</td>\n",
              "      <td>Netflix</td>\n",
              "    </tr>\n",
              "  </tbody>\n",
              "</table>\n",
              "</div>"
            ],
            "text/plain": [
              "                               Title  Year  Age  ...  Type Runtime  platform\n",
              "0             Avengers: Infinity War  2018  13+  ...     0   149.0   Netflix\n",
              "1                 Back to the Future  1985   7+  ...     0   116.0   Netflix\n",
              "2  Spider-Man: Into the Spider-Verse  2018   7+  ...     0   117.0   Netflix\n",
              "3                        The Pianist  2002  18+  ...     0   150.0   Netflix\n",
              "4                   Django Unchained  2012  18+  ...     0   165.0   Netflix\n",
              "\n",
              "[5 rows x 8 columns]"
            ]
          },
          "metadata": {
            "tags": []
          },
          "execution_count": 58
        }
      ]
    },
    {
      "cell_type": "code",
      "metadata": {
        "colab": {
          "base_uri": "https://localhost:8080/",
          "height": 279
        },
        "id": "gezIQ5P3nEHL",
        "outputId": "257ca3e9-aed2-4bf6-b715-b8f82739bc69"
      },
      "source": [
        "ax = sns.barplot(x=\"platform\", y=\"Runtime\",hue=\"Age\", estimator=sum, data=ds2)"
      ],
      "execution_count": 59,
      "outputs": [
        {
          "output_type": "display_data",
          "data": {
            "image/png": "[encoded data removed]",
            "text/plain": [
              "<Figure size 432x288 with 1 Axes>"
            ]
          },
          "metadata": {
            "tags": [],
            "needs_background": "light"
          }
        }
      ]
    }
  ]
}